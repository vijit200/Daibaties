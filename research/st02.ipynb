{
 "cells": [
  {
   "cell_type": "code",
   "execution_count": 1,
   "metadata": {},
   "outputs": [],
   "source": [
    "import os\n",
    "os.chdir(\"../\")"
   ]
  },
  {
   "cell_type": "code",
   "execution_count": 4,
   "metadata": {},
   "outputs": [],
   "source": [
    "from collections import namedtuple\n",
    "from pathlib import Path\n",
    "\n",
    "DataTransformationConfig = namedtuple(\"DataTransformationConfig\", [\n",
    "    \"train_data\",\n",
    "    \"test_data\",\n",
    "    \"transform_dir\"\n",
    "])"
   ]
  },
  {
   "cell_type": "code",
   "execution_count": 3,
   "metadata": {},
   "outputs": [],
   "source": [
    "from daibatiesClassifier.utils import *\n",
    "from daibatiesClassifier.utils import read_yaml\n",
    "from daibatiesClassifier.constants import *"
   ]
  },
  {
   "cell_type": "code",
   "execution_count": 8,
   "metadata": {},
   "outputs": [],
   "source": [
    "class ConfigurationManager:\n",
    "    def __init__(\n",
    "        self,\n",
    "        config_filepath = CONFIG_FILE_PATH,\n",
    "        #params_filepath = PARAMS_FILE_PATH\n",
    "\n",
    "    ):\n",
    "        self.config = read_yaml(config_filepath)\n",
    "        #self.params = read_yaml(params_filepath)\n",
    "        create_directories([self.config.artifacts_root])\n",
    "\n",
    "    def get_data_transform_config(self) -> DataTransformationConfig:\n",
    "        config = self.config.data_transformation\n",
    "        \n",
    "        create_directories([\"artifacts/data_transform\"])\n",
    "\n",
    "        data_transformation_config = DataTransformationConfig(\n",
    "            train_data=  config.train_data,\n",
    "            test_data=  config.test_data,\n",
    "            transform_dir= config.transform_dir\n",
    "        )\n",
    "\n",
    "        return data_transformation_config"
   ]
  },
  {
   "cell_type": "code",
   "execution_count": 6,
   "metadata": {},
   "outputs": [
    {
     "data": {
      "text/plain": [
       "ConfigBox({'artifacts_root': 'artifacts', 'data_ingestion': {'root_dir': 'artifacts/data_ingestion', 'source': 'archive.zip', 'unzip_dir': 'artifacts/data_ingestion', 'train_dir': 'artifacts/data_ingestion/train', 'test_dir': 'artifacts/data_ingestion/test'}, 'data_transformation': {'train_data': 'artifacts/data_ingestion/train/train.csv', 'test_data': 'artifacts/data_ingestion/test/test.csv', 'transform_dir': 'artifacts/data_transform'}})"
      ]
     },
     "execution_count": 6,
     "metadata": {},
     "output_type": "execute_result"
    }
   ],
   "source": [
    "read_yaml(Path('configs\\config.yaml'))"
   ]
  },
  {
   "cell_type": "code",
   "execution_count": 7,
   "metadata": {},
   "outputs": [],
   "source": [
    "import os\n",
    "import pandas as pd\n",
    "import numpy as np\n",
    "\n",
    "class DataTransformation:\n",
    "    def __init__(self, config: DataTransformationConfig):\n",
    "        self.config = config\n",
    "\n",
    "    def transform_train(self):\n",
    "\n",
    "        df = pd.read_csv(self.config.train_data)\n",
    "\n",
    "        col=['Glucose', 'BloodPressure', 'SkinThickness', 'Insulin','BMI']\n",
    "        for i in col:\n",
    "            df[i].replace(0,np.nan, inplace = True)\n",
    "\n",
    "        for i in col:\n",
    "            if df[i].isnull().sum() > 0:\n",
    "                df[i] = df[i].fillna(df[i].median())\n",
    "\n",
    "        print(df.isnull().sum())\n",
    "        s = os.path.join(self.config.transform_dir,\"train_main.csv\")\n",
    "        df.to_csv(s,index=False)      \n",
    "\n",
    "    def transform_test(self):\n",
    "\n",
    "        df = pd.read_csv(self.config.test_data)\n",
    "\n",
    "        col=['Glucose', 'BloodPressure', 'SkinThickness', 'Insulin','BMI']\n",
    "        for i in col:\n",
    "            df[i].replace(0,np.nan, inplace = True)\n",
    "\n",
    "        for i in col:\n",
    "            if df[i].isnull().sum() > 0:\n",
    "                df[i] = df[i].fillna(df[i].median())\n",
    "\n",
    "        print(df.isnull().sum())\n",
    "        s = os.path.join(self.config.transform_dir,\"test_main.csv\")\n",
    "        df.to_csv(s,index=False)  \n",
    "    "
   ]
  },
  {
   "cell_type": "code",
   "execution_count": 9,
   "metadata": {},
   "outputs": [],
   "source": [
    "\n",
    "config = ConfigurationManager()\n",
    "data_ingestion_config = config.get_data_transform_config()\n",
    "data_transform = DataTransformation(config=data_ingestion_config)"
   ]
  },
  {
   "cell_type": "code",
   "execution_count": 10,
   "metadata": {},
   "outputs": [
    {
     "name": "stdout",
     "output_type": "stream",
     "text": [
      "Pregnancies                 0\n",
      "Glucose                     0\n",
      "BloodPressure               0\n",
      "SkinThickness               0\n",
      "Insulin                     0\n",
      "BMI                         0\n",
      "DiabetesPedigreeFunction    0\n",
      "Age                         0\n",
      "Outcome                     0\n",
      "dtype: int64\n"
     ]
    }
   ],
   "source": [
    "data_transform.transform_train()"
   ]
  },
  {
   "cell_type": "code",
   "execution_count": 11,
   "metadata": {},
   "outputs": [
    {
     "name": "stdout",
     "output_type": "stream",
     "text": [
      "Pregnancies                 0\n",
      "Glucose                     0\n",
      "BloodPressure               0\n",
      "SkinThickness               0\n",
      "Insulin                     0\n",
      "BMI                         0\n",
      "DiabetesPedigreeFunction    0\n",
      "Age                         0\n",
      "Outcome                     0\n",
      "dtype: int64\n"
     ]
    }
   ],
   "source": [
    "data_transform.transform_test()"
   ]
  },
  {
   "cell_type": "code",
   "execution_count": null,
   "metadata": {},
   "outputs": [],
   "source": []
  }
 ],
 "metadata": {
  "kernelspec": {
   "display_name": "Python 3",
   "language": "python",
   "name": "python3"
  },
  "language_info": {
   "codemirror_mode": {
    "name": "ipython",
    "version": 3
   },
   "file_extension": ".py",
   "mimetype": "text/x-python",
   "name": "python",
   "nbconvert_exporter": "python",
   "pygments_lexer": "ipython3",
   "version": "3.8.15 (default, Nov 24 2022, 14:38:14) [MSC v.1916 64 bit (AMD64)]"
  },
  "orig_nbformat": 4,
  "vscode": {
   "interpreter": {
    "hash": "dbfcd6c39436775956a9f2b2107884cbcc62d03896fe7135fb36644f7268a616"
   }
  }
 },
 "nbformat": 4,
 "nbformat_minor": 2
}
