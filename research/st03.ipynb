{
 "cells": [
  {
   "cell_type": "code",
   "execution_count": 1,
   "metadata": {},
   "outputs": [],
   "source": [
    "import os\n",
    "os.chdir(\"../\")"
   ]
  },
  {
   "cell_type": "code",
   "execution_count": 10,
   "metadata": {},
   "outputs": [],
   "source": [
    "from collections import namedtuple\n",
    "from pathlib import Path\n",
    "\n",
    "DataTrainingConfig = namedtuple(\"DataTrainingConfig\", [\n",
    "    \"train_data\",\n",
    "    \"training_dir\"\n",
    "])"
   ]
  },
  {
   "cell_type": "code",
   "execution_count": 11,
   "metadata": {},
   "outputs": [],
   "source": [
    "from daibatiesClassifier.utils import *\n",
    "from daibatiesClassifier.utils import read_yaml\n",
    "from daibatiesClassifier.constants import *"
   ]
  },
  {
   "cell_type": "code",
   "execution_count": 12,
   "metadata": {},
   "outputs": [],
   "source": [
    "class ConfigurationManager:\n",
    "    def __init__(\n",
    "        self,\n",
    "        config_filepath = CONFIG_FILE_PATH,\n",
    "        params_filepath = PARAMS_FILE_PATH\n",
    "\n",
    "    ):\n",
    "        self.config = read_yaml(config_filepath)\n",
    "        #self.params = read_yaml(params_filepath)\n",
    "        create_directories([self.config.artifacts_root])\n",
    "\n",
    "    def get_data_training_config(self) -> DataTrainingConfig:\n",
    "        config = self.config.model_training\n",
    "        \n",
    "        create_directories([\"artifacts/training\"])\n",
    "\n",
    "        data_training_config = DataTrainingConfig(\n",
    "            train_data = config.train_data,\n",
    "            training_dir = config.training_dir\n",
    "        )\n",
    "\n",
    "        return data_training_config"
   ]
  },
  {
   "cell_type": "code",
   "execution_count": 13,
   "metadata": {},
   "outputs": [],
   "source": [
    "import os\n",
    "import pandas as pd\n",
    "import numpy as np\n",
    "from sklearn.model_selection import StratifiedKFold\n",
    "from sklearn.preprocessing import RobustScaler\n",
    "from sklearn.metrics import accuracy_score\n",
    "from sklearn.ensemble import RandomForestClassifier\n",
    "import pickle\n",
    "\n",
    "class DataTraining:\n",
    "    def __init__(self, config: DataTrainingConfig):\n",
    "        self.config = config\n",
    "\n",
    "    def train(self):\n",
    "\n",
    "        df = pd.read_csv(self.config.train_data)\n",
    "\n",
    "        X = df.drop('Outcome',axis=1)\n",
    "        y = df['Outcome']\n",
    "\n",
    "        sc = RobustScaler()\n",
    "\n",
    "        d = sc.fit_transform(X)\n",
    "\n",
    "        X = pd.DataFrame(d,columns=['Pregnancies', 'Glucose', 'BloodPressure', 'SkinThickness', 'Insulin',\n",
    "       'BMI', 'DiabetesPedigreeFunction', 'Age'])\n",
    "\n",
    "        skf = StratifiedKFold(n_splits=5)\n",
    "        l = []\n",
    "        for train_index, test_index in skf.split(X, y):\n",
    "\n",
    "            X_train, X_test = X.iloc[train_index], X.iloc[test_index]\n",
    "            y_train, y_test = y.iloc[train_index], y.iloc[test_index]\n",
    "            ram = RandomForestClassifier()\n",
    "            ram.fit(X_train,y_train)\n",
    "            pred = ram.predict(X_test)\n",
    "            l.append(accuracy_score(y_test,pred))\n",
    "\n",
    "        print(np.mean(l))\n",
    "        os.chdir(self.config.training_dir)\n",
    "        with open('scaling.pickle', 'wb') as f:\n",
    "    # write the object to the file\n",
    "            pickle.dump(sc, f)\n",
    "        with open('model.pickle', 'wb') as f:\n",
    "    # write the object to the file\n",
    "            pickle.dump(ram, f)"
   ]
  },
  {
   "cell_type": "code",
   "execution_count": 14,
   "metadata": {},
   "outputs": [],
   "source": [
    "config = ConfigurationManager()\n",
    "data_ingestion_config = config.get_data_training_config()\n",
    "data_ingestion = DataTraining(config=data_ingestion_config)"
   ]
  },
  {
   "cell_type": "code",
   "execution_count": 15,
   "metadata": {},
   "outputs": [
    {
     "name": "stdout",
     "output_type": "stream",
     "text": [
      "0.7621751299480208\n"
     ]
    }
   ],
   "source": [
    "data_ingestion.train()"
   ]
  },
  {
   "cell_type": "code",
   "execution_count": null,
   "metadata": {},
   "outputs": [],
   "source": []
  }
 ],
 "metadata": {
  "kernelspec": {
   "display_name": "Python 3",
   "language": "python",
   "name": "python3"
  },
  "language_info": {
   "codemirror_mode": {
    "name": "ipython",
    "version": 3
   },
   "file_extension": ".py",
   "mimetype": "text/x-python",
   "name": "python",
   "nbconvert_exporter": "python",
   "pygments_lexer": "ipython3",
   "version": "3.8.15 (default, Nov 24 2022, 14:38:14) [MSC v.1916 64 bit (AMD64)]"
  },
  "orig_nbformat": 4,
  "vscode": {
   "interpreter": {
    "hash": "dbfcd6c39436775956a9f2b2107884cbcc62d03896fe7135fb36644f7268a616"
   }
  }
 },
 "nbformat": 4,
 "nbformat_minor": 2
}
